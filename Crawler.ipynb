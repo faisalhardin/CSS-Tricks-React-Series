{
  "nbformat": 4,
  "nbformat_minor": 0,
  "metadata": {
    "kernelspec": {
      "display_name": "Python 3",
      "language": "python",
      "name": "python3"
    },
    "language_info": {
      "codemirror_mode": {
        "name": "ipython",
        "version": 3
      },
      "file_extension": ".py",
      "mimetype": "text/x-python",
      "name": "python",
      "nbconvert_exporter": "python",
      "pygments_lexer": "ipython3",
      "version": "3.7.1"
    },
    "colab": {
      "name": "Crawler.ipynb",
      "provenance": [],
      "include_colab_link": true
    }
  },
  "cells": [
    {
      "cell_type": "markdown",
      "metadata": {
        "id": "view-in-github",
        "colab_type": "text"
      },
      "source": [
        "<a href=\"https://colab.research.google.com/github/faisalhardin/CSS-Tricks-React-Series/blob/master/Crawler.ipynb\" target=\"_parent\"><img src=\"https://colab.research.google.com/assets/colab-badge.svg\" alt=\"Open In Colab\"/></a>"
      ]
    },
    {
      "cell_type": "code",
      "metadata": {
        "id": "WWLeMfj1KWaG",
        "colab_type": "code",
        "colab": {}
      },
      "source": [
        "#!/usr/bin/env python\n",
        "# coding: utf-8\n",
        "\n",
        "import tweepy\n",
        "from tweepy import OAuthHandler\n",
        "import json\n",
        "\n",
        "api_key = \"nsHzTV2hgog9PvF6FqZ2ppnxO\"\n",
        "api_secret_key = \"c0Qqw4K8KaaRH4ZNLGiOVzbR1wJyopbiWV716slpPw4VfKydJx\"\n",
        "access_token = \"1181750850890289152-YovvopwDV1WrNDA3GwCwV2ool8rNkG\"\n",
        "access_secret = \"9bQ6dZYd2Q4Qi6zc9r8MPcrBBqAiblSQia1EXtRwm788R\"\n",
        "\n",
        "\n",
        "auth = OAuthHandler(api_key, api_secret_key)\n",
        "auth.set_access_token(access_token, access_secret)\n",
        "\n",
        "api = tweepy.API(auth)"
      ],
      "execution_count": 0,
      "outputs": []
    },
    {
      "cell_type": "code",
      "metadata": {
        "id": "x-7gu749KWal",
        "colab_type": "code",
        "colab": {}
      },
      "source": [
        "\n",
        "users = ['realDonaldTrump']\n",
        "def get_tweets_from_users(users):\n",
        "    dict_user_tweets = dict()\n",
        "    for user in users:\n",
        "        json_information = dict()\n",
        "        user_information = api.get_user(id=user)\n",
        "        if user_information:\n",
        "\n",
        "            tweets = list()\n",
        "            for status in tweepy.Cursor(api.user_timeline, id=user, tweet_mode='extended').items(100):\n",
        "                tweets.append(status.full_text)\n",
        "            dict_user_tweets[user] = tweets\n",
        "    return dict_user_tweets"
      ],
      "execution_count": 0,
      "outputs": []
    },
    {
      "cell_type": "code",
      "metadata": {
        "id": "KAoLnDraKWbR",
        "colab_type": "code",
        "outputId": "512f8c81-9c9f-4d3a-d723-31cb1d3e90fe",
        "colab": {
          "base_uri": "https://localhost:8080/",
          "height": 109
        }
      },
      "source": [
        "import re\n",
        "import nltk #install: pip install nltk\n",
        "\n",
        "from nltk.corpus import stopwords\n",
        "\n",
        "nltk.download('stopwords')\n",
        "nltk.download('punkt')\n",
        "\n",
        "        \n"
      ],
      "execution_count": 0,
      "outputs": [
        {
          "output_type": "stream",
          "text": [
            "[nltk_data] Downloading package stopwords to /root/nltk_data...\n",
            "[nltk_data]   Unzipping corpora/stopwords.zip.\n",
            "[nltk_data] Downloading package punkt to /root/nltk_data...\n",
            "[nltk_data]   Unzipping tokenizers/punkt.zip.\n"
          ],
          "name": "stdout"
        },
        {
          "output_type": "execute_result",
          "data": {
            "text/plain": [
              "True"
            ]
          },
          "metadata": {
            "tags": []
          },
          "execution_count": 13
        }
      ]
    },
    {
      "cell_type": "code",
      "metadata": {
        "scrolled": false,
        "id": "jBSkCu8KKWbq",
        "colab_type": "code",
        "colab": {}
      },
      "source": [
        "import string\n",
        "from unidecode import unidecode ##install : pip install unidecode\n",
        "\n",
        "def clean_tweets(dict_user_tweets):\n",
        "    user_words = dict()\n",
        "    stop = set(stopwords.words('english'))\n",
        "    for user, tweets in dict_user_tweets.items():\n",
        "        list_of_words = list()\n",
        "        for tweet in tweets:\n",
        "            processed_tweets = unidecode(tweet)\n",
        "            processed_tweet = (re.sub(r'(\\bhttp\\S+\\b|\\@\\S+\\b|\\&\\S+|(?<!\\w)\\d+(?!\\w)\\%?|(?<!\\w)\\.+|RT|#\\w+|\\.\\w+|n?\\'\\w{1,2})', '', processed_tweets)).lower()\n",
        "            processed_tweet = re.sub(r'((?!\\w)\\S+(?<!\\w))','', processed_tweet)\n",
        "            tweet_token = nltk.word_tokenize(processed_tweet)\n",
        "            list_of_words += [t for t in tweet_token if t not in stop and t not in string.punctuation]\n",
        "\n",
        "        user_words[user] = list_of_words\n",
        "    return user_words\n",
        "        "
      ],
      "execution_count": 0,
      "outputs": []
    },
    {
      "cell_type": "code",
      "metadata": {
        "id": "c7xvOXQcKWb6",
        "colab_type": "code",
        "colab": {}
      },
      "source": [
        "def count_words(user_words):\n",
        "    user_words_counts = dict()\n",
        "    for user,words in user_words.items():\n",
        "        word_counts = dict()\n",
        "        for word in words:\n",
        "            if word in word_counts:\n",
        "                word_counts[word] += 1\n",
        "            else:\n",
        "                word_counts[word] = 1\n",
        "        user_words_counts[user] = word_counts\n",
        "    return user_words_counts"
      ],
      "execution_count": 0,
      "outputs": []
    },
    {
      "cell_type": "code",
      "metadata": {
        "id": "4V33SvbEKWcb",
        "colab_type": "code",
        "colab": {}
      },
      "source": [
        "tweets = get_tweets_from_users(users)\n",
        "cleaned_tweets = clean_tweets(tweets)\n",
        "counted_words = count_words(cleaned_tweets)"
      ],
      "execution_count": 0,
      "outputs": []
    },
    {
      "cell_type": "code",
      "metadata": {
        "id": "kdZf2MKuKWcw",
        "colab_type": "code",
        "colab": {}
      },
      "source": [
        "# counted_words['realDonaldTrump'] = sorted(counted_words['realDonaldTrump'].items(), key=lambda x: -x[1]) ##mengurutkan"
      ],
      "execution_count": 0,
      "outputs": []
    },
    {
      "cell_type": "code",
      "metadata": {
        "id": "B2ZeJjMzKWdH",
        "colab_type": "code",
        "outputId": "0b3010b3-ee11-4fbe-e7e4-804ac4745303",
        "colab": {
          "base_uri": "https://localhost:8080/",
          "height": 55
        }
      },
      "source": [
        "print(counted_words)"
      ],
      "execution_count": 0,
      "outputs": [
        {
          "output_type": "stream",
          "text": [
            "{'realDonaldTrump': {'next': 1, 'months': 1, 'going': 5, 'fight': 2, 'heart': 1, 'soul': 1, 'win': 6, 'great': 18, 'state': 4, 'minnesota': 4, 'evening': 1, 'minneapolis': 11, 'incredible': 4, 'american': 6, 'patriots': 1, 'thank': 7, 'joint': 1, 'statement': 2, 'released': 1, 'president': 22, 'bolsonaro': 1, 'march': 1, 'makes': 1, 'absolutely': 2, 'clear': 2, 'support': 2, 'brazil': 1, 'beginning': 2, 'process': 2, 'full': 1, 'oecd': 1, 'membership': 1, 'united': 5, 'states': 5, 'stands': 2, 'article': 1, 'fake': 3, 'news': 5, 'wow': 2, 'way': 4, 'one': 6, 'three': 1, 'choices': 1, 'send': 3, 'thousands': 3, 'troops': 2, 'militarily': 1, 'hit': 3, 'turkey': 14, 'hard': 3, 'financially': 3, 'sanctions': 2, 'mediate': 1, 'deal': 5, 'kurds': 7, 'defeated': 1, 'isis': 3, 'caliphate': 1, 'longer': 1, 'area': 3, 'attack': 3, 'syria': 4, 'job': 4, 'perfectly': 1, 'attacking': 1, 'fighting': 7, 'years': 4, 'big': 10, 'day': 2, 'negotiations': 2, 'china': 2, 'want': 5, 'make': 4, 'meet': 1, 'vice': 1, 'premier': 1, 'tomorrow': 1, 'white': 1, 'house': 4, 'ig': 2, 'investigating': 1, 'socalled': 2, 'whistleblower': 10, 'bad': 1, 'info': 1, 'ukraine': 2, 'stated': 3, 'strongest': 3, 'language': 2, 'trump': 13, 'applied': 1, 'pressure': 3, 'nothing': 9, 'wrong': 3, 'used': 3, 'possible': 2, 'end': 4, 'democrat': 5, 'scam': 6, 'wo': 1, 'dems': 2, 'media': 1, 'fixed': 1, 'america': 4, 'fair': 2, 'coverage': 2, 'brilliant': 1, 'reporting': 1, 'appreciated': 1, 'many': 4, 'people': 6, 'trying': 3, 'find': 1, 'new': 4, 'consistent': 1, 'powerful': 1, 'voice': 1, 'see': 6, 'tonight': 1, 'rally': 3, 'start': 3, 'war': 2, 'member': 3, 'nato': 3, 'others': 3, 'say': 3, 'stay': 2, 'let': 6, 'battles': 1, 'even': 3, 'financial': 1, 'help': 1, 'play': 1, 'rules': 1, 'watching': 1, 'closely': 1, 'planning': 1, 'long': 2, 'time': 4, 'forever': 1, 'soldiers': 6, 'military': 3, 'anywhere': 2, 'near': 1, 'endless': 2, 'wars': 2, 'talking': 1, 'sides': 1, 'us': 4, 'tens': 1, 'soon': 2, 'kansas': 1, 'city': 2, 'missouri': 1, 'today': 2, 'always': 1, 'impeach': 1, 'majority': 2, 'commit': 1, 'suicide': 1, 'impeachment': 5, 'coup': 1, 'left': 7, 'hates': 1, 'inc': 1, 'hunter': 2, 'biden': 3, 'disappeared': 1, 'protects': 1, 'crooked': 5, 'daddy': 1, 'court': 4, 'justice': 1, 'turned': 1, 'terrible': 1, 'ever': 5, 'since': 1, 'shep': 1, 'smith': 1, 'gave': 2, 'hillary': 3, 'debate': 1, 'questions': 2, 'got': 1, 'fired': 1, 'deliver': 1, 'anymore': 1, 'different': 3, 'oh': 1, 'well': 2, 'announced': 1, 'running': 3, 'never': 6, 'good': 11, 'poll': 1, 'whoever': 1, 'pollster': 1, 'suck': 1, 'also': 3, 'much': 3, 'old': 1, 'days': 1, 'like': 1, 'andrew': 1, 'napolitano': 1, 'wanted': 1, 'supreme': 2, 'ukrainian': 3, 'volodymyr': 1, 'zelensky': 1, 'told': 1, 'reporters': 1, 'thursday': 3, 'controversial': 1, 'july': 1, 'call': 4, 'involved': 1, 'bribe': 1, 'blackmail': 1, 'quid': 2, 'pro': 2, 'quo': 2, 'impeachmentminded': 1, 'democrats': 9, 'claim': 1, 'immediately': 1, 'talk': 1, 'case': 1, 'lose': 1, 'control': 1, 'already': 3, 'taken': 2, 'militants': 1, 'tied': 1, 'beheadings': 1, 'known': 1, 'beetles': 1, 'country': 7, 'secure': 2, 'location': 1, 'controlled': 1, 'u': 3, 'worst': 3, 'impeached': 3, 'created': 1, 'greatest': 3, 'economy': 4, 'history': 4, 'building': 1, 'cutting': 1, 'taxes': 3, 'take': 2, 'criticizes': 1, 'steve': 1, 'kerr': 1, 'gregg': 1, 'popovich': 1, 'vocal': 1, 'critics': 1, 'asked': 2, 'putting': 1, 'pr': 1, 'think': 3, 'anonymous': 1, 'source': 1, 'democratic': 2, 'staff': 1, 'representatives': 1, 'insult': 1, 'real': 2, 'whistleblowers': 2, 'actual': 1, 'go': 2, 'whole': 1, 'lives': 2, 'upended': 1, 'john': 3, 'kiriakou': 1, 'hardest': 1, 'thing': 1, 'sleepy': 2, 'joe': 3, 'pathetic': 1, 'son': 1, 'detriment': 1, 'taxpayer': 1, 'ripped': 1, 'least': 1, 'two': 5, 'countries': 2, 'millions': 2, 'dollars': 2, 'calling': 1, 'failing': 1, 'campaign': 3, 'choice': 1, 'percent': 1, 'pretty': 2, 'low': 1, 'considering': 2, 'volume': 2, 'high': 3, 'fact': 3, 'continuation': 1, 'witch': 3, 'hunt': 4, 'someone': 4, 'needed': 1, 'spy': 1, 'else': 2, 'order': 2, 'work': 1, 'unable': 1, 'fill': 1, 'important': 2, 'federal': 1, 'judgeships': 1, 'record': 2, 'far': 2, 'handing': 1, 'choose': 1, 'daca': 4, 'stand': 2, 'negative': 1, 'legal': 1, 'implications': 1, 'republicans': 4, 'short': 1, 'would': 4, 'actually': 2, 'benefit': 1, 'done': 1, 'right': 4, 'obama': 2, 'said': 2, 'sign': 1, 'hold': 1, 'signed': 2, 'anyway': 1, 'upholds': 1, 'gives': 1, 'extraordinary': 1, 'powers': 1, 'greater': 2, 'thought': 1, 'willing': 1, 'hurt': 2, 'mexicoall': 1, 'deny': 2, 'usmca': 3, 'mexico': 1, 'urging': 1, 'p': 2, 'try': 2, 'busy': 1, 'striking': 1, 'iron': 1, 'hot': 1, 'vote': 4, 'crazy': 1, 'true': 4, 'first': 3, 'place': 1, 'icig': 3, 'something': 1, 'dem': 2, 'hoax': 1, 'adam': 2, 'schiff': 2, 'disgrace': 1, 'boom': 1, 'hearing': 1, 'repo': 1, 'oct': 1, '18th': 1, 'thick': 1, 'telephone': 1, 'book': 1, 'lie': 2, 'look': 1, 'happened': 1, 'friends': 1, 'less': 2, 'ca': 2, 'pass': 1, 'every': 1, 'needs': 2, 'communicate': 1, 'associates': 1, 'prior': 1, 'coming': 3, 'joins': 1, 'et': 1, 'deposing': 1, 'witnesses': 1, 'behind': 1, 'closed': 1, 'doors': 1, 'denying': 1, 'ask': 1, 'partisan': 1, 'light': 1, 'based': 1, 'bullshit': 1, 'last': 1, 'anyone': 1, 'really': 3, 'giving': 1, 'companies': 1, 'better': 1, 'alternative': 1, 'gop': 1, 'radical': 4, 'clue': 1, 'usa': 4, 'despite': 2, 'fed': 1, 'congenial': 1, 'perfect': 1, 'spoke': 1, 'seeing': 1, 'transcript': 3, 'must': 6, 'apologize': 1, 'stop': 2, 'ridiculous': 2, 'knowing': 1, 'release': 1, 'exact': 1, 'frightening': 1, 'completely': 1, 'lacking': 1, 'substance': 1, 'related': 1, 'national': 1, 'security': 1, 'read': 1, 'con': 1, 'artists': 1, 'looking': 1, 'republican': 3, 'party': 2, 'total': 2, 'focus': 2, 'went': 1, 'false': 1, 'disproven': 1, 'premise': 1, 'weapons': 1, 'mass': 1, 'destruction': 1, 'none': 1, 'slowly': 1, 'carefully': 1, 'bringing': 1, 'home': 2, 'picture': 1, 'spent': 2, 'eight': 1, 'trillion': 1, 'policing': 1, 'middle': 3, 'east': 3, 'died': 2, 'badly': 1, 'wounded': 1, 'side': 1, 'decision': 1, 'made': 2, 'wishing': 1, 'easy': 1, 'meaningful': 1, 'fast': 1, 'observing': 1, 'yom': 1, 'kippur': 1, 'various': 1, 'groups': 1, 'hundreds': 1, 'moved': 1, 'captured': 1, 'fighters': 2, 'europe': 1, 'refused': 1, 'returned': 1, 'stupid': 1, 'ending': 1, 'pay': 1, 'fraud': 1, 'watch': 2, 'tucker': 1, 'carlson': 1, 'segment': 1, 'lawyer': 1, 'ties': 1, 'opponents': 1, 'allow': 2, 'continue': 2, 'facts': 2, 'incorrect': 2, 'conversation': 1, 'conflict': 1, 'interest': 1, 'involvement': 1, 'candidate': 2, 'exposed': 1, 'questioned': 1, 'properly': 1, 'wirch': 1, 'amazing': 1, 'breaking': 1, 'ofessional': 1, 'tie': 1, 'washington': 1, 'examiner': 1, 'words': 2, 'working': 1, 'potentially': 1, 'reported': 1, 'bob': 2, 'mueller': 2, 'pursuing': 1, 'fbi': 1, 'director': 1, 'met': 1, 'administration': 1, 'officials': 1, 'bret': 1, 'baier': 1, 'jake': 1, 'gibson': 1, 'though': 1, 'denied': 1, 'excuses': 1, 'move': 1, 'fall': 1, 'workers': 2, 'small': 1, 'businesses': 1, 'kentucky': 1, 'across': 1, 'create': 1, 'jobs': 1, 'generate': 1, 'billion': 1, 'wealth': 1, 'gasoline': 1, 'prices': 1, 'california': 2, 'higher': 1, 'nation': 1, 'vs': 1, 'guess': 1, 'expensive': 1, 'unsafe': 1, 'cars': 1, 'mandating': 1, 'trick': 1, 'worry': 1, 'relief': 1, 'get': 4, 'reminder': 1, 'basically': 1, 'entire': 1, 'year': 1, 'congress': 1, 'throwing': 1, 'runoff': 4, 'louisiana': 3, 'governor': 3, 'cut': 1, 'car': 2, 'insurance': 2, 'fabulous': 1, 'family': 1, 'honest': 1, 'abe': 1, 'lincoln': 1, 'friday': 2, 'night': 4, 'force': 2, 'liberal': 2, 'bel': 2, 'edwards': 2, 'protect': 1, '2nd': 1, 'amendment': 1, 'saturday': 1, 'border': 1, 'cops': 3, 'tshirt': 1, 'web': 1, 'site': 1, 'crashed': 1, 'back': 1, 'proceeds': 1, 'police': 7, 'union': 2, 'charities': 1, 'mayor': 6, 'jacob': 1, 'frey': 2, 'everything': 1, 'stifle': 1, 'free': 2, 'speech': 2, 'sellout': 1, 'crowd': 2, 'target': 1, 'center': 1, 'presidents': 1, 'clinton': 2, 'paid': 1, 'almost': 1, 'expected': 1, 'either': 1, 'candidates': 1, 'leaning': 1, 'getting': 2, 'easily': 1, 'mahalet': 2, 'born': 1, 'ethiopia': 1, 'abandoned': 2, 'parents': 1, 'lived': 1, 'impoverished': 1, 'orphan': 1, 'adopted': 1, 'lo': 1, 'fully': 2, 'discredited': 1, 'listening': 1, 'lies': 1, 'nice': 1, 'officers': 2, 'please': 1, 'tell': 1, 'price': 1, 'probably': 1, 'illegal': 1, 'strongly': 1, 'proudly': 1, 'law': 1, 'enforcement': 1, 'lt': 1, 'kroll': 1, 'department': 1, 'kind': 2, 'uniform': 1, 'ban': 1, 'love': 2, 'shirts': 1, 'bring': 1, 'enter': 1, 'race': 1, 'steal': 1, 'away': 2, 'uber': 1, 'elizabeth': 1, 'warren': 1, 'condition': 1, 'explain': 1, 'crimes': 1, 'misdemeanors': 1, 'including': 1, 'deleted': 1, 'emails': 1, 'subpoena': 1, 'importantly': 2, 'ambassador': 2, 'sondland': 2, 'tweet': 1, 'report': 1, 'believe': 1, 'intentions': 1, 'crystal': 1, 'says': 1, 'man': 1, 'testify': 1, 'unfortunately': 1, 'testifying': 1, 'totally': 1, 'compromised': 1, 'kangaroo': 1, 'republica': 1, 'rights': 2, 'allowed': 1, 'public': 1, 'understands': 1, 'remaining': 2, 'section': 1, 'removed': 1, 'unforced': 1, 'unnecessary': 1, 'devastating': 1, 'fragile': 1, 'currency': 1, 'helping': 2, 'may': 1, 'leaving': 1, 'special': 1, 'wonderful': 2, 'likewise': 1, 'relationship': 1, 'trading': 2, 'partner': 2, 'large': 1, 'kurdish': 1, 'population': 1, 'health': 1, 'request': 1, 'pastor': 1, 'brunson': 1, 'prison': 1, 'term': 1, 'remember': 1, 'standing': 1, 'guest': 1, 'november': 1, '13th': 1, 'conveniently': 1, 'forget': 1, 'structural': 1, 'steel': 1, 'frame': 1, 'f': 1, 'fighter': 1, 'jet': 1, 'save': 1, 'idlib': 1, 'province': 1, 'returning': 1, 'lightweight': 1, 'hurting': 1, 'supporters': 1, 'ticket': 1, 'requests': 1, 'dump': 1, 'omar': 1, 'extoion': 1, 'tries': 1, 'shut': 1, 'keep': 1, 'via': 1, 'outrageous': 1, 'abuse': 1, 'power': 1, 'residents': 1, 'joni': 1, 'negotiating': 1, 'trade': 4, 'deals': 2, 'fairer': 1, 'j': 1, 'discusses': 1, 'signing': 1, 'early': 1, 'outcomes': 1, 'japan': 2, 'b': 1, 'agreements': 1, 'changing': 1, 'game': 1, 'farmers': 1, 'ranc': 1}}\n"
          ],
          "name": "stdout"
        }
      ]
    },
    {
      "cell_type": "code",
      "metadata": {
        "id": "tKkOMk1QKWdt",
        "colab_type": "code",
        "colab": {}
      },
      "source": [
        ""
      ],
      "execution_count": 0,
      "outputs": []
    }
  ]
}